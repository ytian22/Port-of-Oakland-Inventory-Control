{
 "cells": [
  {
   "cell_type": "markdown",
   "metadata": {
    "hide_input": true
   },
   "source": [
    "## Port of Oakland: Inventory Control\n",
    "Lesson objectives: Use Monte-Carlo/bootstrapping/simulation methods to estimate event probabilities."
   ]
  },
  {
   "cell_type": "code",
   "execution_count": 1,
   "metadata": {
    "collapsed": true,
    "hide_input": false
   },
   "outputs": [],
   "source": [
    "import math\n",
    "import numpy as np\n",
    "import pandas as pd"
   ]
  },
  {
   "cell_type": "markdown",
   "metadata": {},
   "source": [
    "## Q1\n",
    "Write a function to simulate trucks, `trucksim`, which takes as input the following: \n",
    "* A number, n, of trucks to simulate\n",
    "* A dictionary, d, of value-probability pairs which represent the distribution of fill rates. For the case above it would look like { “<10” : .08, “10-15” : .27, ... }\n",
    "  \n",
    "The output of this function should be a list n different truck levels, randomly simulated. For example, if n = 1 and d = {“ < 10” : .5, “ > 10” : .5}, then the result will either be [“ < 10”] or [“ > 10”]."
   ]
  },
  {
   "cell_type": "code",
   "execution_count": 2,
   "metadata": {
    "code_folding": [],
    "collapsed": true,
    "hide_input": false
   },
   "outputs": [],
   "source": [
    "def trucksim(n, d):\n",
    "    \"\"\"\n",
    "    n: a number, of trucks to simulate\n",
    "    d: a dictionary, of value-probability pairs which represent the distribution of fill rates. \n",
    "    \"\"\"\n",
    "    d_choice = [x for x in d.keys()]\n",
    "    d_prob = [x for x in d.values()]\n",
    "    return np.random.choice(d_choice, size=n, replace=True, p=d_prob).tolist()"
   ]
  },
  {
   "cell_type": "markdown",
   "metadata": {},
   "source": [
    "## Q2\n",
    "Using the function above, write a wrapper function to bootstrap confidence intervals. In particular, write a function called `truck1CI`, that takes the following arguments:\n",
    "* A string (“keyname”), the name of a single truck level (“10-15”, “15-20”, ..)\n",
    "* A simulated list (simlist)\n",
    "* the number of times to bootstrap (n)\n",
    "* a, which is equal to 1 - the confidence interval level. So, if we want a 90% Confidence interval, a will be equal to .1.\n",
    "  \n",
    "The function should create n samples (or bootstraps) which have the same length as simlist and are created by sampling, with replacement from simlist. In other words, the function create n new samples from the original simlist. The function should calculate the percentage of each of these n lists that are equal to “keyname”. Finally, `truck1C1` should return the mean, 1-a/2 , a/2 percentiles of this percentage and the standard deviation of the bootstrapped means.\n",
    "  \n",
    "The last item returned by the function, the standard deviation of the bootstrapped mean, represents the standard error on our estimator (in this case, the sample mean).\n",
    "  \n",
    "Please answer the following questions, using a single truck simulation of length 1,000 as input and using the information from table 2.2:"
   ]
  },
  {
   "cell_type": "code",
   "execution_count": 3,
   "metadata": {
    "collapsed": true,
    "hide_input": false
   },
   "outputs": [],
   "source": [
    "def truck1CI(keyname, simlist, n, a):\n",
    "    \"\"\"\n",
    "    keyname: a string, the name of a single truck level (“10-15”, “15-20”, ..)\n",
    "    simlist: a simulated list\n",
    "    n: the number of times to bootstrap\n",
    "    a: which is equal to 1 - the confidence interval level\n",
    "    \"\"\"\n",
    "    percentage = [np.random.choice(simlist, size=len(simlist), replace=True, p=None).tolist().count(keyname) \n",
    "                  / float(len(simlist)) for i in range(n)]\n",
    "    return {\"Confid. Level\":str(int((1- a)*100)) + \"%\",\n",
    "            \"Truck Fill Level\":keyname,\n",
    "            \"Number of Bootstraps\":n,\n",
    "            \"Est. Value\":np.mean(percentage), \n",
    "            \"CI Lower Bound\":np.percentile(percentage, a / 2 *100),\n",
    "            \"CI Upper Bound\":np.percentile(percentage, (1 - a / 2) *100),\n",
    "            \"Std. Error\":np.std(percentage) / math.sqrt(n)}"
   ]
  },
  {
   "cell_type": "code",
   "execution_count": 4,
   "metadata": {
    "collapsed": true,
    "hide_input": false
   },
   "outputs": [],
   "source": [
    "#table 2.2\n",
    "d = {\"<10\":.08,\n",
    "     \"10-15\":.27,\n",
    "     \"15-20\":.10,\n",
    "     \"20-25\":.11,\n",
    "     \"25-30\":.15,\n",
    "     \"30-35\":.20,\n",
    "     \"35-37\":.07,\n",
    "     \"37+\":0.02}"
   ]
  },
  {
   "cell_type": "markdown",
   "metadata": {},
   "source": [
    "### Q2 (a)\n",
    "Fill out the following table:"
   ]
  },
  {
   "cell_type": "code",
   "execution_count": 5,
   "metadata": {
    "hide_input": false
   },
   "outputs": [
    {
     "data": {
      "text/html": [
       "<div>\n",
       "<style>\n",
       "    .dataframe thead tr:only-child th {\n",
       "        text-align: right;\n",
       "    }\n",
       "\n",
       "    .dataframe thead th {\n",
       "        text-align: left;\n",
       "    }\n",
       "\n",
       "    .dataframe tbody tr th {\n",
       "        vertical-align: top;\n",
       "    }\n",
       "</style>\n",
       "<table border=\"1\" class=\"dataframe\">\n",
       "  <thead>\n",
       "    <tr style=\"text-align: right;\">\n",
       "      <th></th>\n",
       "      <th>Confid. Level</th>\n",
       "      <th>Truck Fill Level</th>\n",
       "      <th>Number of Bootstraps</th>\n",
       "      <th>Est. Value</th>\n",
       "      <th>CI Lower Bound</th>\n",
       "      <th>CI Upper Bound</th>\n",
       "      <th>Std. Error</th>\n",
       "    </tr>\n",
       "  </thead>\n",
       "  <tbody>\n",
       "    <tr>\n",
       "      <th>0</th>\n",
       "      <td>90%</td>\n",
       "      <td>30-35</td>\n",
       "      <td>100</td>\n",
       "      <td>0.185490</td>\n",
       "      <td>0.16695</td>\n",
       "      <td>0.20305</td>\n",
       "      <td>0.001094</td>\n",
       "    </tr>\n",
       "    <tr>\n",
       "      <th>1</th>\n",
       "      <td>90%</td>\n",
       "      <td>30-35</td>\n",
       "      <td>1000</td>\n",
       "      <td>0.187035</td>\n",
       "      <td>0.16600</td>\n",
       "      <td>0.20700</td>\n",
       "      <td>0.000391</td>\n",
       "    </tr>\n",
       "    <tr>\n",
       "      <th>2</th>\n",
       "      <td>90%</td>\n",
       "      <td>30-35</td>\n",
       "      <td>2500</td>\n",
       "      <td>0.186836</td>\n",
       "      <td>0.16700</td>\n",
       "      <td>0.20800</td>\n",
       "      <td>0.000247</td>\n",
       "    </tr>\n",
       "    <tr>\n",
       "      <th>3</th>\n",
       "      <td>90%</td>\n",
       "      <td>30-35</td>\n",
       "      <td>5000</td>\n",
       "      <td>0.186943</td>\n",
       "      <td>0.16700</td>\n",
       "      <td>0.20800</td>\n",
       "      <td>0.000174</td>\n",
       "    </tr>\n",
       "    <tr>\n",
       "      <th>4</th>\n",
       "      <td>90%</td>\n",
       "      <td>&lt;10</td>\n",
       "      <td>100</td>\n",
       "      <td>0.102060</td>\n",
       "      <td>0.08790</td>\n",
       "      <td>0.12005</td>\n",
       "      <td>0.001020</td>\n",
       "    </tr>\n",
       "    <tr>\n",
       "      <th>5</th>\n",
       "      <td>90%</td>\n",
       "      <td>&lt;10</td>\n",
       "      <td>1000</td>\n",
       "      <td>0.101117</td>\n",
       "      <td>0.08500</td>\n",
       "      <td>0.11600</td>\n",
       "      <td>0.000300</td>\n",
       "    </tr>\n",
       "    <tr>\n",
       "      <th>6</th>\n",
       "      <td>90%</td>\n",
       "      <td>&lt;10</td>\n",
       "      <td>2500</td>\n",
       "      <td>0.100787</td>\n",
       "      <td>0.08500</td>\n",
       "      <td>0.11700</td>\n",
       "      <td>0.000193</td>\n",
       "    </tr>\n",
       "    <tr>\n",
       "      <th>7</th>\n",
       "      <td>90%</td>\n",
       "      <td>&lt;10</td>\n",
       "      <td>5000</td>\n",
       "      <td>0.101058</td>\n",
       "      <td>0.08600</td>\n",
       "      <td>0.11700</td>\n",
       "      <td>0.000133</td>\n",
       "    </tr>\n",
       "  </tbody>\n",
       "</table>\n",
       "</div>"
      ],
      "text/plain": [
       "  Confid. Level Truck Fill Level  Number of Bootstraps  Est. Value  \\\n",
       "0           90%            30-35                   100    0.185490   \n",
       "1           90%            30-35                  1000    0.187035   \n",
       "2           90%            30-35                  2500    0.186836   \n",
       "3           90%            30-35                  5000    0.186943   \n",
       "4           90%              <10                   100    0.102060   \n",
       "5           90%              <10                  1000    0.101117   \n",
       "6           90%              <10                  2500    0.100787   \n",
       "7           90%              <10                  5000    0.101058   \n",
       "\n",
       "   CI Lower Bound  CI Upper Bound  Std. Error  \n",
       "0         0.16695         0.20305    0.001094  \n",
       "1         0.16600         0.20700    0.000391  \n",
       "2         0.16700         0.20800    0.000247  \n",
       "3         0.16700         0.20800    0.000174  \n",
       "4         0.08790         0.12005    0.001020  \n",
       "5         0.08500         0.11600    0.000300  \n",
       "6         0.08500         0.11700    0.000193  \n",
       "7         0.08600         0.11700    0.000133  "
      ]
     },
     "execution_count": 5,
     "metadata": {},
     "output_type": "execute_result"
    }
   ],
   "source": [
    "np.random.seed(314)\n",
    "simlist = trucksim(1000, d)\n",
    "pd.DataFrame([truck1CI(\"30-35\", simlist, 100, .1),\n",
    "              truck1CI(\"30-35\", simlist, 1000, .1),\n",
    "              truck1CI(\"30-35\", simlist, 2500, .1),\n",
    "              truck1CI(\"30-35\", simlist, 5000, .1),\n",
    "              truck1CI(\"<10\", simlist, 100, .1),\n",
    "              truck1CI(\"<10\", simlist, 1000, .1),\n",
    "              truck1CI(\"<10\", simlist, 2500, .1),\n",
    "              truck1CI(\"<10\", simlist, 5000, .1)],\n",
    "              columns = [\"Confid. Level\", \"Truck Fill Level\", \"Number of Bootstraps\",\n",
    "                         \"Est. Value\", \"CI Lower Bound\", \"CI Upper Bound\", \"Std. Error\"])"
   ]
  },
  {
   "cell_type": "markdown",
   "metadata": {
    "hide_input": true
   },
   "source": [
    "### Q2 (b)\n",
    "Did this behave as expected? In particular, comment on the range of the confidence interval and the size of the standard error as the number of bootstraps increases.\n",
    "  \n",
    "It behaves as expected. As the number of bootstraps increases, the range of confidence interval becomes more stable and converges to a certain range. The standard error of sample mean decreases as the sample size increases."
   ]
  },
  {
   "cell_type": "markdown",
   "metadata": {
    "hide_input": true
   },
   "source": [
    "## Q3\n",
    "Using the same process, use the original data (2.2) to build confidence intervals around the percentage of trucks for each type you would expect if 4,989 trucks went out."
   ]
  },
  {
   "cell_type": "code",
   "execution_count": 6,
   "metadata": {
    "hide_input": false
   },
   "outputs": [
    {
     "data": {
      "text/html": [
       "<div>\n",
       "<style>\n",
       "    .dataframe thead tr:only-child th {\n",
       "        text-align: right;\n",
       "    }\n",
       "\n",
       "    .dataframe thead th {\n",
       "        text-align: left;\n",
       "    }\n",
       "\n",
       "    .dataframe tbody tr th {\n",
       "        vertical-align: top;\n",
       "    }\n",
       "</style>\n",
       "<table border=\"1\" class=\"dataframe\">\n",
       "  <thead>\n",
       "    <tr style=\"text-align: right;\">\n",
       "      <th></th>\n",
       "      <th>Confid. Level</th>\n",
       "      <th>Truck Fill Level</th>\n",
       "      <th>Number of Bootstraps</th>\n",
       "      <th>Est. Value</th>\n",
       "      <th>CI Lower Bound</th>\n",
       "      <th>CI Upper Bound</th>\n",
       "      <th>Std. Error</th>\n",
       "    </tr>\n",
       "  </thead>\n",
       "  <tbody>\n",
       "    <tr>\n",
       "      <th>0</th>\n",
       "      <td>95%</td>\n",
       "      <td>35-37</td>\n",
       "      <td>200</td>\n",
       "      <td>0.070869</td>\n",
       "      <td>0.063740</td>\n",
       "      <td>0.078382</td>\n",
       "      <td>0.000261</td>\n",
       "    </tr>\n",
       "    <tr>\n",
       "      <th>1</th>\n",
       "      <td>95%</td>\n",
       "      <td>37+</td>\n",
       "      <td>200</td>\n",
       "      <td>0.020453</td>\n",
       "      <td>0.017037</td>\n",
       "      <td>0.024659</td>\n",
       "      <td>0.000136</td>\n",
       "    </tr>\n",
       "    <tr>\n",
       "      <th>2</th>\n",
       "      <td>90%</td>\n",
       "      <td>35-37</td>\n",
       "      <td>200</td>\n",
       "      <td>0.071338</td>\n",
       "      <td>0.066526</td>\n",
       "      <td>0.076979</td>\n",
       "      <td>0.000232</td>\n",
       "    </tr>\n",
       "    <tr>\n",
       "      <th>3</th>\n",
       "      <td>90%</td>\n",
       "      <td>37+</td>\n",
       "      <td>200</td>\n",
       "      <td>0.020160</td>\n",
       "      <td>0.017238</td>\n",
       "      <td>0.023261</td>\n",
       "      <td>0.000136</td>\n",
       "    </tr>\n",
       "  </tbody>\n",
       "</table>\n",
       "</div>"
      ],
      "text/plain": [
       "  Confid. Level Truck Fill Level  Number of Bootstraps  Est. Value  \\\n",
       "0           95%            35-37                   200    0.070869   \n",
       "1           95%              37+                   200    0.020453   \n",
       "2           90%            35-37                   200    0.071338   \n",
       "3           90%              37+                   200    0.020160   \n",
       "\n",
       "   CI Lower Bound  CI Upper Bound  Std. Error  \n",
       "0        0.063740        0.078382    0.000261  \n",
       "1        0.017037        0.024659    0.000136  \n",
       "2        0.066526        0.076979    0.000232  \n",
       "3        0.017238        0.023261    0.000136  "
      ]
     },
     "execution_count": 6,
     "metadata": {},
     "output_type": "execute_result"
    }
   ],
   "source": [
    "simlist = trucksim(4989, d)\n",
    "pd.DataFrame([truck1CI(\"35-37\", simlist, 200, .05),\n",
    "              truck1CI(\"37+\", simlist, 200, .05),\n",
    "              truck1CI(\"35-37\", simlist, 200, .1),\n",
    "              truck1CI(\"37+\", simlist, 200, .1)],\n",
    "              columns = [\"Confid. Level\", \"Truck Fill Level\", \"Number of Bootstraps\",\n",
    "                         \"Est. Value\", \"CI Lower Bound\", \"CI Upper Bound\", \"Std. Error\"])"
   ]
  },
  {
   "cell_type": "code",
   "execution_count": 7,
   "metadata": {
    "hide_input": false
   },
   "outputs": [
    {
     "name": "stdout",
     "output_type": "stream",
     "text": [
      "0.0737622770094\n",
      "0.0216476247745\n"
     ]
    }
   ],
   "source": [
    "print float(368) / 4989 #percentage of trucks at level 35-37 in the test of XXX’s algorithm\n",
    "print float(108) / 4989 #percentage of trucks at level 37+ in the test of XXX’s algorithm"
   ]
  },
  {
   "cell_type": "markdown",
   "metadata": {
    "hide_input": true
   },
   "source": [
    "After completing the table above, what results do you draw about XXX’s algorithm?\n",
    "  \n",
    "From this method, we can not say that XXX’s algorithm is better. In the test, 7.376% trucks are at level 35-37 feet and 2.164% are at level 37+, which fall between the confidence intervals we calculated from the simulation using the original data. This means even though the XXX's algorithm is the same as the current one, there is still a good chance that we get the test result. Therefore, we don't have enough evidence to say XXX’s algorithm is better than the current one."
   ]
  },
  {
   "cell_type": "markdown",
   "metadata": {
    "hide_input": true
   },
   "source": [
    "## Q4\n",
    "Let’s now compute the likelihood that XXX’s algorithm is better than than the current algorithm by using a Monte-Carlo algorithm. To do this repeat the following 1,000 times:\n",
    "* Using `trucksim`, create a simulated list of 4,989 trucks under the null hypothesis that there is no difference.\n",
    "* Calculate the number of trucks that that have between 35-37 feet filled. If this is greater than or equal to 368, count it as a “1”, otherwise as a “0”. Sum up the list of 1’s and 0’s and divide it by 1,000. This represents the likelihood of getting data as or more extreme than what was observed under the null hypothesis (sound familiar?).\n",
    "* What is your estimated probability?\n",
    "* Repeat the analysis on the trucks with length 37+."
   ]
  },
  {
   "cell_type": "code",
   "execution_count": 8,
   "metadata": {
    "hide_input": false
   },
   "outputs": [
    {
     "name": "stdout",
     "output_type": "stream",
     "text": [
      "0.156\n",
      "0.212\n"
     ]
    }
   ],
   "source": [
    "print sum([trucksim(4989, d).count('35-37') >= 368 for i in range(1000)]) / float(1000) #35-37\n",
    "print sum([trucksim(4989, d).count('37+') >= 108 for i in range(1000)]) / float(1000) #37+"
   ]
  },
  {
   "cell_type": "markdown",
   "metadata": {
    "hide_input": true
   },
   "source": [
    "The estimated probabilities of 35-37 and 35+ are 0.156 and 0.212, respectively. This means even though the XXX's algorithm is the same as the current one, the likelihood of getting data as or more extreme than what was observed for 35-37 or for 37+ is quite big."
   ]
  },
  {
   "cell_type": "markdown",
   "metadata": {
    "hide_input": true
   },
   "source": [
    "## Q5\n",
    "Repeat the same procedure, but this time doing a joint test of both hypothesis (having more extreme values for BOTH 37+ and 35-37). What is the relationship between the tests?"
   ]
  },
  {
   "cell_type": "code",
   "execution_count": 9,
   "metadata": {
    "hide_input": false
   },
   "outputs": [
    {
     "data": {
      "text/plain": [
       "0.03"
      ]
     },
     "execution_count": 9,
     "metadata": {},
     "output_type": "execute_result"
    }
   ],
   "source": [
    "pos = 0\n",
    "for i in range(1000):\n",
    "    simlist = trucksim(4989, d)\n",
    "    accu1 = sum([x == '35-37' for x in simlist])\n",
    "    accu2 = sum([x == '37+' for x in simlist])\n",
    "    if accu1 >= 368 and  accu2 >= 108:\n",
    "        pos += 1\n",
    "float(pos) / 1000"
   ]
  },
  {
   "cell_type": "markdown",
   "metadata": {
    "hide_input": true
   },
   "source": [
    "The estimated probability of the joint test is 0.03. This means if the XXX's algorithm is not better than the current one, the likelihood of getting data as or more extreme than what was observed for both 35-37 and 37+ is only 0.03, which is quite unlikely. Therefore, we have enough evidence to reject the null hypothesis and could come to the conclusion that the XXX's algorithm is better than the current one."
   ]
  },
  {
   "cell_type": "markdown",
   "metadata": {},
   "source": [
    "## Q6\n",
    "What are the strengths and weaknesses of this method? What do you conclude about XXX’s algorithm?\n",
    "  \n",
    "**Bootstrap**\n",
    "  \n",
    "Strength: We are able to perform the simulation when we don't have a ton of data and don't know the underlying distribution.\n",
    "  \n",
    "Weakness: The sample we used to bootstrap from might not be representative of population, which might lead to inaccurate result.\n",
    "\n",
    "**Monte-Carlo**\n",
    "  \n",
    "Strength: We can estimate a statistic with process certainty when direct calculating is difficult or impossible.\n",
    "  \n",
    "Weakness: we need to know the underlying distribution.\n",
    "  \n",
    "Since the joint test has a type I error of 0.05, and the sum of type I error of two individual tests is larger than 0.05, so we should trust the joint test. We conclude that the XXX's algorithm is better than the current one from the analysis above."
   ]
  },
  {
   "cell_type": "code",
   "execution_count": null,
   "metadata": {
    "collapsed": true
   },
   "outputs": [],
   "source": []
  }
 ],
 "metadata": {
  "kernelspec": {
   "display_name": "Python 2",
   "language": "python",
   "name": "python2"
  },
  "language_info": {
   "codemirror_mode": {
    "name": "ipython",
    "version": 2
   },
   "file_extension": ".py",
   "mimetype": "text/x-python",
   "name": "python",
   "nbconvert_exporter": "python",
   "pygments_lexer": "ipython2",
   "version": "2.7.13"
  },
  "toc": {
   "nav_menu": {},
   "number_sections": true,
   "sideBar": true,
   "skip_h1_title": false,
   "toc_cell": false,
   "toc_position": {
    "height": "860px",
    "left": "0px",
    "right": "1153px",
    "top": "106px",
    "width": "212px"
   },
   "toc_section_display": "block",
   "toc_window_display": false
  }
 },
 "nbformat": 4,
 "nbformat_minor": 2
}
